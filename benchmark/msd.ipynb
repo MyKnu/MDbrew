{
 "cells": [
  {
   "cell_type": "code",
   "execution_count": 1,
   "metadata": {},
   "outputs": [
    {
     "name": "stdout",
     "output_type": "stream",
     "text": [
      "\n",
      "\t 1 data is generated \n",
      "\n",
      "\tget_position_db :  0.70 s\n"
     ]
    }
   ],
   "source": [
    "from test_MDbrew.opener import DumpOpener\n",
    "from test_MDbrew.tools import Extractor\n",
    "from test_MDbrew.MSD import MSD\n",
    "\n",
    "path = './test.lammpstrj'\n",
    "data = DumpOpener(path)\n",
    "database = Extractor(data=data).get_position_db(type_=1)"
   ]
  },
  {
   "cell_type": "code",
   "execution_count": 2,
   "metadata": {},
   "outputs": [
    {
     "ename": "TypeError",
     "evalue": "MSD.__init__() takes 1 positional argument but 2 were given",
     "output_type": "error",
     "traceback": [
      "\u001b[0;31m---------------------------------------------------------------------------\u001b[0m",
      "\u001b[0;31mTypeError\u001b[0m                                 Traceback (most recent call last)",
      "Cell \u001b[0;32mIn [2], line 1\u001b[0m\n\u001b[0;32m----> 1\u001b[0m \u001b[43mMSD\u001b[49m\u001b[43m(\u001b[49m\u001b[43mdatabase\u001b[49m\u001b[43m)\u001b[49m\n",
      "\u001b[0;31mTypeError\u001b[0m: MSD.__init__() takes 1 positional argument but 2 were given"
     ]
    }
   ],
   "source": [
    "MSD"
   ]
  },
  {
   "cell_type": "code",
   "execution_count": null,
   "metadata": {},
   "outputs": [],
   "source": []
  }
 ],
 "metadata": {
  "kernelspec": {
   "display_name": "Python 3.10.6 ('test_')",
   "language": "python",
   "name": "python3"
  },
  "language_info": {
   "codemirror_mode": {
    "name": "ipython",
    "version": 3
   },
   "file_extension": ".py",
   "mimetype": "text/x-python",
   "name": "python",
   "nbconvert_exporter": "python",
   "pygments_lexer": "ipython3",
   "version": "3.10.6"
  },
  "orig_nbformat": 4,
  "vscode": {
   "interpreter": {
    "hash": "80e5d733353978200c1af8d0f1cae7c7317cc71e6f2abb097ec951190d222978"
   }
  }
 },
 "nbformat": 4,
 "nbformat_minor": 2
}
