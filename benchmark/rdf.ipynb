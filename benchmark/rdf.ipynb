{
 "cells": [
  {
   "cell_type": "code",
   "execution_count": 2,
   "metadata": {},
   "outputs": [
    {
     "name": "stdout",
     "output_type": "stream",
     "text": [
      "Hello\n",
      " STEP (Done)\t\t\t->  1.43 s ✓e\n",
      " STEP (Done)\t\t\t->  0.00 s ✓\n",
      " STEP (Done)\t\t\t->  0.66 s ✓n_db\n",
      " STEP (Done)\t\t\t->  1.32 s ✓e\n",
      " STEP (Done)\t\t\t->  0.00 s ✓\n",
      " STEP (Done)\t\t\t->  0.64 s ✓n_db\n",
      " STEP (Done)\t\t\t->  0.00 s ✓size\n"
     ]
    },
    {
     "data": {
      "text/plain": [
       "[[-12.425478230169531, 12.425478230169531],\n",
       " [-12.425478230169531, 12.425478230169531],\n",
       " [-12.425478230169531, 12.425478230169531]]"
      ]
     },
     "execution_count": 2,
     "metadata": {},
     "output_type": "execute_result"
    }
   ],
   "source": [
    "from MDbrew.opener import DumpOpener\n",
    "from MDbrew.tools import Extractor, timeCount\n",
    "print(\"Hello\")\n",
    "data = DumpOpener('./test.lammpstrj')\n",
    "pos1 = Extractor(data=data).get_position_db(type_=1)\n",
    "pos = Extractor(data=data).get_position_db(type_=2)\n",
    "ss = data.get_system_size()\n",
    "ss"
   ]
  },
  {
   "cell_type": "code",
   "execution_count": 3,
   "metadata": {},
   "outputs": [
    {
     "name": "stderr",
     "output_type": "stream",
     "text": [
      " RDF  (STEP) : 100%|################| 401/401 [00:29<00:00, 13.77it/s]\n"
     ]
    },
    {
     "data": {
      "text/plain": [
       "array([0.        , 0.        , 0.        , ..., 0.9256861 , 0.92353155,\n",
       "       0.92474418])"
      ]
     },
     "execution_count": 3,
     "metadata": {},
     "output_type": "execute_result"
    }
   ],
   "source": [
    "from test_MDbrew.RDF2 import RDF\n",
    "rdf_11 = RDF(pos1, pos1, ss)\n",
    "rdf_12 = RDF(pos1, pos, ss)\n",
    "rdf_22 = RDF(pos, pos, ss)\n",
    "rdf_11.get_rdf(resolution=10000)\n",
    "# rdf_12.get_rdf(resolution=10000)\n",
    "# rdf_22.get_rdf(resolution=10000)"
   ]
  },
  {
   "cell_type": "code",
   "execution_count": 53,
   "metadata": {},
   "outputs": [],
   "source": [
    "cn = rdf_11.get_CN()"
   ]
  },
  {
   "cell_type": "code",
   "execution_count": 4,
   "metadata": {},
   "outputs": [
    {
     "data": {
      "text/plain": [
       "<matplotlib.legend.Legend at 0x7f8c382484f0>"
      ]
     },
     "execution_count": 4,
     "metadata": {},
     "output_type": "execute_result"
    },
    {
     "data": {
      "image/png": "[encoded data removed]",
      "text/plain": [
       "<Figure size 640x480 with 1 Axes>"
      ]
     },
     "metadata": {},
     "output_type": "display_data"
    }
   ],
   "source": [
    "import numpy as np\n",
    "import matplotlib.pyplot as plt\n",
    "rdf_11.plot_g_r('k--',label = '1-1', alpha=0.5, linewidth=2)\n",
    "# rdf_12.plot_g_r(label = '1-2', alpha=1.0)\n",
    "# rdf_22.plot_g_r(label = '2-2', alpha=1.0)\n",
    "plt.legend()"
   ]
  },
  {
   "cell_type": "code",
   "execution_count": 79,
   "metadata": {},
   "outputs": [
    {
     "name": "stdout",
     "output_type": "stream",
     "text": [
      " STEP (Done)\t\t\t->  0.00 s ✓size\n"
     ]
    }
   ],
   "source": [
    "x = pos[0]\n",
    "len(x)\n",
    "system_size = np.array(data.get_system_size())[:, 1]\n",
    "resolution = 500\n",
    "dr = np.min(system_size) / resolution\n",
    "hist_data = np.zeros(resolution)"
   ]
  },
  {
   "cell_type": "code",
   "execution_count": 80,
   "metadata": {},
   "outputs": [],
   "source": [
    "for b_line in x:\n",
    "    b = np.tile(b_line, (len(x), 1))\n",
    "    diff_position = np.abs(np.subtract(x, b))\n",
    "    diff_position = np.where(\n",
    "        diff_position > system_size,\n",
    "        system_size * 2 - diff_position,\n",
    "        diff_position,\n",
    "    )\n",
    "    r = np.sqrt(np.sum(np.square(diff_position), axis=-1))\n",
    "    idx_hist = (r / dr).astype(np.int64)\n",
    "    idx_hist = idx_hist[np.where((idx_hist < resolution) & (0 < idx_hist))]\n",
    "    hist_data[idx_hist] += 1"
   ]
  },
  {
   "cell_type": "code",
   "execution_count": 81,
   "metadata": {},
   "outputs": [],
   "source": [
    "r_i = np.arange(1, resolution) * dr\n",
    "g_r = np.append(0, hist_data[1:] / (r_i **2))\n",
    "factor = 4.0 * np.pi * 500.0 * dr\n",
    "denominator = factor * 1 * 500\n",
    "aaa = g_r * np.prod(system_size) * 8.0 / denominator"
   ]
  },
  {
   "cell_type": "code",
   "execution_count": 84,
   "metadata": {},
   "outputs": [
    {
     "data": {
      "text/plain": [
       "array([[255.93542084, 262.51812363, 170.05297187],\n",
       "       [143.27858993, 192.53168255, 194.21703176],\n",
       "       [329.71527728,  76.17574008,  16.36304424],\n",
       "       ...,\n",
       "       [375.49969053, 409.94222804, 382.20013846],\n",
       "       [426.66929206, 481.76429263, 478.98200695],\n",
       "       [  0.        ,   0.        ,   0.        ]])"
      ]
     },
     "execution_count": 84,
     "metadata": {},
     "output_type": "execute_result"
    }
   ],
   "source": [
    "diff_position / dr"
   ]
  },
  {
   "cell_type": "code",
   "execution_count": null,
   "metadata": {},
   "outputs": [],
   "source": []
  }
 ],
 "metadata": {
  "kernelspec": {
   "display_name": "Python 3.9.13 ('my_env')",
   "language": "python",
   "name": "python3"
  },
  "language_info": {
   "codemirror_mode": {
    "name": "ipython",
    "version": 3
   },
   "file_extension": ".py",
   "mimetype": "text/x-python",
   "name": "python",
   "nbconvert_exporter": "python",
   "pygments_lexer": "ipython3",
   "version": "3.9.13"
  },
  "orig_nbformat": 4,
  "vscode": {
   "interpreter": {
    "hash": "bcb02e8bac2a31f4dd9bd64414b189e35d5243caee727a01bd32bf17c219620c"
   }
  }
 },
 "nbformat": 4,
 "nbformat_minor": 2
}
